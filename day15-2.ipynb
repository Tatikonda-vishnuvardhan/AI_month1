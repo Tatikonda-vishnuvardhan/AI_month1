{
 "cells": [
  {
   "cell_type": "code",
   "execution_count": 1,
   "id": "c52c327b-01da-48d9-a70f-05af76bb8287",
   "metadata": {},
   "outputs": [],
   "source": [
    "#operations\n",
    "import numpy as np"
   ]
  },
  {
   "cell_type": "code",
   "execution_count": 2,
   "id": "a0331bf3-e9cb-4cab-a601-dfbfb7023975",
   "metadata": {},
   "outputs": [
    {
     "name": "stdout",
     "output_type": "stream",
     "text": [
      "sum: [15 35 55]\n",
      "sub: [ 5 25 45]\n",
      "mul: [ 50 150 250]\n",
      "div: [ 3.33333333 10.         16.66666667]\n",
      "quotient: [ 3 10 16]\n",
      "rem: [1 0 2]\n",
      "power: [  1000  27000 125000]\n"
     ]
    }
   ],
   "source": [
    "#scalar operations\n",
    "a = np.array([10,30,50])\n",
    "print(f\"sum: {a + 5}\")\n",
    "print(f\"sub: {a - 5}\")\n",
    "print(f\"mul: {a * 5}\")\n",
    "print(f\"div: {a / 3}\")\n",
    "print(f\"quotient: {a // 3}\")\n",
    "print(f\"rem: {a % 3}\")\n",
    "print(f\"power: {a ** 3}\")"
   ]
  },
  {
   "cell_type": "code",
   "execution_count": 3,
   "id": "99c04d07-6b5c-4cd9-9be5-a2ca9048cfe0",
   "metadata": {},
   "outputs": [
    {
     "name": "stdout",
     "output_type": "stream",
     "text": [
      "[[1.18321596 1.51657509 1.8973666  2.14476106]\n",
      " [2.36643191 2.48997992 2.79284801 2.91547595]]\n",
      "[[1. 2. 4. 5.]\n",
      " [6. 6. 8. 8.]]\n",
      "[[2. 3. 4. 5.]\n",
      " [6. 7. 8. 9.]]\n",
      "[[1. 2. 3. 4.]\n",
      " [5. 6. 7. 8.]]\n"
     ]
    }
   ],
   "source": [
    "#vector operation\n",
    "b = np.array([[1.4,2.3,3.6,4.6],\n",
    "             [5.6,6.2,7.8,8.5]])\n",
    "print(np.sqrt(b))\n",
    "print(np.round(b))\n",
    "print(np.ceil(b))\n",
    "print(np.floor(b))"
   ]
  },
  {
   "cell_type": "code",
   "execution_count": 4,
   "id": "6a8096db-a514-4dd9-ad21-931d40fdc2ff",
   "metadata": {},
   "outputs": [
    {
     "name": "stdout",
     "output_type": "stream",
     "text": [
      "sum: [ 8 12 16]\n",
      "sub: [-6 -6 -6]\n",
      "mul: [ 7 27 55]\n",
      "div: [0.14285714 0.33333333 0.45454545]\n",
      "quotient: [0 0 0]\n",
      "rem: [1 3 5]\n",
      "power: [       1    19683 48828125]\n",
      "89\n"
     ]
    }
   ],
   "source": [
    "#element wise\n",
    "c = np.array([1,3,5])\n",
    "d = np.array([7,9,11])\n",
    "print(f\"sum: {c + d}\")\n",
    "print(f\"sub: {c - d}\")\n",
    "print(f\"mul: {c * d}\")\n",
    "print(f\"div: {c / d}\")\n",
    "print(f\"quotient: {c // d}\")\n",
    "print(f\"rem: {c % d}\")\n",
    "print(f\"power: {c ** d}\")\n",
    "print(np.dot(c,d))"
   ]
  },
  {
   "cell_type": "code",
   "execution_count": 5,
   "id": "41a5fd15-ae32-46ac-bed1-fddace8dced2",
   "metadata": {},
   "outputs": [
    {
     "name": "stdout",
     "output_type": "stream",
     "text": [
      "(1, 3)\n",
      "(4, 1)\n",
      "[[ 1  2  3]\n",
      " [ 2  4  6]\n",
      " [ 3  6  9]\n",
      " [ 4  8 12]]\n",
      "(4, 3)\n"
     ]
    }
   ],
   "source": [
    "#broadcasting\n",
    "d = np.array([[1,2,3]])\n",
    "e = np.array([[1],[2],[3],[4]])\n",
    "print(np.shape(d))\n",
    "print(np.shape(e))\n",
    "print(d * e)\n",
    "print(np.shape(d * e))"
   ]
  },
  {
   "cell_type": "code",
   "execution_count": 6,
   "id": "b0a18863-b5e2-4569-90a0-146467cc100c",
   "metadata": {},
   "outputs": [
    {
     "name": "stdout",
     "output_type": "stream",
     "text": [
      "120\n",
      "8.0\n",
      "1\n",
      "15\n",
      "4.320493798938574\n",
      "18.666666666666668\n",
      "0\n",
      "14\n",
      "[[18 21 24 27 30]]\n",
      "[[ 1  2  3  4  5]\n",
      " [ 6  7  8  9 10]\n",
      " [11 12 13 14 15]]\n",
      "[[15 40 65]]\n"
     ]
    }
   ],
   "source": [
    "#aggregation\n",
    "f = np.array([[[1,2,3,4,5],\n",
    "              [6,7,8,9,10],\n",
    "              [11,12,13,14,15]]])\n",
    "print(np.sum(f))\n",
    "print(np.mean(f))\n",
    "print(np.min(f))\n",
    "print(np.max(f))\n",
    "print(np.std(f))\n",
    "print(np.var(f))\n",
    "print(np.argmin(f))\n",
    "print(np.argmax(f))\n",
    "print(np.sum(f,axis = 1))\n",
    "print(np.sum(f,axis = 0))\n",
    "print(np.sum(f,axis=2))\n"
   ]
  },
  {
   "cell_type": "code",
   "execution_count": 7,
   "id": "0caf50ff-b81f-4bb6-becc-a4d58e0db359",
   "metadata": {},
   "outputs": [
    {
     "name": "stdout",
     "output_type": "stream",
     "text": [
      "[16 15]\n",
      "[20 21 24 32 45 53]\n",
      "[64 80]\n",
      "[[20 21  0  0 24]\n",
      " [32 45 53  0  0]]\n"
     ]
    }
   ],
   "source": [
    "# or -> | and -> &\n",
    "g = np.array([[20,21,16,15,24],[32,45,53,64,80]])\n",
    "teen = g[g <= 18]\n",
    "adult = g[ (g >= 18) & (g <= 60) ]\n",
    "old = g[g >= 60]\n",
    "x = np.where(((g >= 18) & (g <= 60)),g,0)\n",
    "print(f\"{teen}\\n{adult}\\n{old}\\n{x}\")"
   ]
  },
  {
   "cell_type": "code",
   "execution_count": 8,
   "id": "b58dba96-1753-4cf4-9b22-91a095e4a932",
   "metadata": {},
   "outputs": [
    {
     "name": "stdout",
     "output_type": "stream",
     "text": [
      "61 [[12 18]\n",
      " [35 90]]\n",
      "[1 3 5 7 9]\n",
      "[0.   0.25 0.5  0.75 1.  ]\n"
     ]
    }
   ],
   "source": [
    "# random generator\n",
    "rng = np.random.default_rng()\n",
    "guess = rng.integers(1,100)\n",
    "arr = rng.integers(1,101, size = (2,2))\n",
    "print(guess,arr)\n",
    "q = np.arange(1,10,2)\n",
    "po = np.linspace(0,1,5)\n",
    "print(q)\n",
    "print(po)"
   ]
  },
  {
   "cell_type": "code",
   "execution_count": 9,
   "id": "4521254e-2b3c-4eb2-ae37-6277515956e2",
   "metadata": {},
   "outputs": [
    {
     "name": "stdout",
     "output_type": "stream",
     "text": [
      "45.77358389918818 [[-0.3766145  -0.23629113]\n",
      " [ 0.53904735 -0.54771289]]\n"
     ]
    }
   ],
   "source": [
    "float = np.random.uniform(1,100)\n",
    "aj = np.random.uniform(-1,1,size=(2,2))\n",
    "print(float,aj)"
   ]
  },
  {
   "cell_type": "code",
   "execution_count": 10,
   "id": "5f757daa-3697-49f7-a328-2235876669a5",
   "metadata": {},
   "outputs": [
    {
     "name": "stdout",
     "output_type": "stream",
     "text": [
      "None\n",
      "[3 5 9 7 1]\n",
      "7\n",
      "[[9 5 9]\n",
      " [5 1 1]]\n"
     ]
    }
   ],
   "source": [
    "jj  = np.array([1,3,5,7,9])\n",
    "print(rng.shuffle(jj))\n",
    "print(jj)\n",
    "print(rng.choice(jj))\n",
    "print(rng.choice(jj,size=(2,3)))"
   ]
  },
  {
   "cell_type": "code",
   "execution_count": null,
   "id": "7c0052f9",
   "metadata": {},
   "outputs": [],
   "source": []
  }
 ],
 "metadata": {
  "kernelspec": {
   "display_name": ".venv (3.13.7)",
   "language": "python",
   "name": "python3"
  },
  "language_info": {
   "codemirror_mode": {
    "name": "ipython",
    "version": 3
   },
   "file_extension": ".py",
   "mimetype": "text/x-python",
   "name": "python",
   "nbconvert_exporter": "python",
   "pygments_lexer": "ipython3",
   "version": "3.13.7"
  }
 },
 "nbformat": 4,
 "nbformat_minor": 5
}
