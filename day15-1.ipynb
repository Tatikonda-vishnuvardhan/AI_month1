{
 "cells": [
  {
   "cell_type": "code",
   "execution_count": 1,
   "id": "6a0888b7-af8f-440c-ba60-59c4ef745ba3",
   "metadata": {},
   "outputs": [],
   "source": [
    "#multidimenisonal array, indexing,slicing\n",
    "import numpy as np"
   ]
  },
  {
   "cell_type": "code",
   "execution_count": 4,
   "id": "9f6352ed-bf69-445d-8560-3acb2b71c5d0",
   "metadata": {},
   "outputs": [],
   "source": [
    "A = np.array([1,2,3])"
   ]
  },
  {
   "cell_type": "code",
   "execution_count": 5,
   "id": "5acfc0e0-1cbf-4360-aa27-6670e6280671",
   "metadata": {},
   "outputs": [
    {
     "name": "stdout",
     "output_type": "stream",
     "text": [
      "[1 2 3]\n"
     ]
    }
   ],
   "source": [
    "print(A)"
   ]
  },
  {
   "cell_type": "code",
   "execution_count": 6,
   "id": "31a6469e-4c25-4682-ac9e-8508a9647fb9",
   "metadata": {},
   "outputs": [
    {
     "data": {
      "text/plain": [
       "'2.3.2'"
      ]
     },
     "execution_count": 6,
     "metadata": {},
     "output_type": "execute_result"
    }
   ],
   "source": [
    "np.version.version"
   ]
  },
  {
   "cell_type": "code",
   "execution_count": 11,
   "id": "527c6cfa-ced2-4d66-a7a8-e0b4469a6542",
   "metadata": {},
   "outputs": [
    {
     "name": "stdout",
     "output_type": "stream",
     "text": [
      "<class 'numpy.ndarray'>\n",
      "1\n",
      "shape:(3,)\n"
     ]
    }
   ],
   "source": [
    "print(type(A))\n",
    "print(A.ndim)\n",
    "print(f\"shape:{A.shape}\")"
   ]
  },
  {
   "cell_type": "code",
   "execution_count": 12,
   "id": "bc4f8532-7213-45ab-880b-51b548264a4a",
   "metadata": {},
   "outputs": [
    {
     "name": "stdout",
     "output_type": "stream",
     "text": [
      "[2 4 6]\n",
      "2\n",
      "(2, 3)\n",
      "0\n",
      "shape:()\n"
     ]
    }
   ],
   "source": [
    "c = A*2\n",
    "print(c)\n",
    "d = np.array([A,A])\n",
    "print(d.ndim)\n",
    "print(d.shape)\n",
    "b= np.array(1)\n",
    "print(b.ndim)\n",
    "print(f\"shape:{b.shape}\")\n",
    "\n"
   ]
  },
  {
   "cell_type": "code",
   "execution_count": 13,
   "id": "484706e3-e9a4-4bf5-b8b1-7f26c1a21c2c",
   "metadata": {},
   "outputs": [
    {
     "name": "stdout",
     "output_type": "stream",
     "text": [
      "[[['A' 'B']\n",
      "  ['A' 'B']\n",
      "  ['A' 'B']]\n",
      "\n",
      " [['A' 'B']\n",
      "  ['A' 'B']\n",
      "  ['A' 'B']]\n",
      "\n",
      " [['A' 'B']\n",
      "  ['A' 'B']\n",
      "  ['A' 'B']]]\n",
      "3\n",
      "(3, 3, 2)\n"
     ]
    }
   ],
   "source": [
    "e = np.array([[['A','B'],['A','B'],['A','B']],[['A','B'],['A','B'],['A','B']],[['A','B'],['A','B'],['A','B']]])\n",
    "print(e)\n",
    "print(e.ndim)\n",
    "print(e.shape)"
   ]
  },
  {
   "cell_type": "code",
   "execution_count": 14,
   "id": "c23cc4ad-0836-4f2a-b0fe-0492fa5c824b",
   "metadata": {},
   "outputs": [
    {
     "name": "stdout",
     "output_type": "stream",
     "text": [
      "3\n",
      "True\n"
     ]
    }
   ],
   "source": [
    "f = np.array([[['A','B','C'],['D','E','F'],['G','H','I']],\n",
    "              [['J','K','L'],['M','N','O'],['P','Q','R']],\n",
    "              [['S','T','U'],['V','W','X'],['Y','Z','!']]])\n",
    "print(f.ndim)\n",
    "print (f[1,1,1] == f[1][1][1])"
   ]
  },
  {
   "cell_type": "code",
   "execution_count": 15,
   "id": "a9a3933f-91f7-47dc-824a-d58cb323664d",
   "metadata": {},
   "outputs": [
    {
     "name": "stdout",
     "output_type": "stream",
     "text": [
      "Vishnu!\n"
     ]
    }
   ],
   "source": [
    "#string concatenation\n",
    "word = f[2,1,0] + f[0,2,2] + f[2,0,0] + f[0,2,1] + f[1,1,1] + f[2,0,2] + f[2,2,2]\n",
    "print(word.title())"
   ]
  },
  {
   "cell_type": "code",
   "execution_count": 16,
   "id": "47d87398-2142-401e-86c4-31da1bc80c86",
   "metadata": {},
   "outputs": [],
   "source": [
    "a = np.array([[1,2,3,4],\n",
    "              [5,6,7,8],\n",
    "              [9,10,11,12],\n",
    "              [13,14,15,16]])\n"
   ]
  },
  {
   "cell_type": "code",
   "execution_count": 17,
   "id": "cd02711a-4666-43fb-9575-3e1016f4267c",
   "metadata": {},
   "outputs": [
    {
     "data": {
      "text/plain": [
       "array([[ 1,  2,  3,  4],\n",
       "       [ 5,  6,  7,  8],\n",
       "       [ 9, 10, 11, 12],\n",
       "       [13, 14, 15, 16]])"
      ]
     },
     "execution_count": 17,
     "metadata": {},
     "output_type": "execute_result"
    }
   ],
   "source": [
    "a"
   ]
  },
  {
   "cell_type": "code",
   "execution_count": 18,
   "id": "4dde97bc-1cbe-46a1-8887-803e045621fc",
   "metadata": {},
   "outputs": [
    {
     "name": "stdout",
     "output_type": "stream",
     "text": [
      "[[1 2 3 4]\n",
      " [5 6 7 8]]\n",
      "[[ 1  2  3  4]\n",
      " [ 9 10 11 12]]\n",
      "[[13 14 15 16]\n",
      " [ 9 10 11 12]\n",
      " [ 5  6  7  8]\n",
      " [ 1  2  3  4]]\n"
     ]
    }
   ],
   "source": [
    "print(a[0:2])\n",
    "print(a[0::2])\n",
    "print(a[::-1])\n"
   ]
  },
  {
   "cell_type": "code",
   "execution_count": 19,
   "id": "a371225f-451e-477b-bdcf-f912fe9a40a5",
   "metadata": {},
   "outputs": [
    {
     "name": "stdout",
     "output_type": "stream",
     "text": [
      "[[ 1  2  3  4]\n",
      " [ 5  6  7  8]\n",
      " [ 9 10 11 12]\n",
      " [13 14 15 16]]\n",
      "[[ 1  3]\n",
      " [ 5  7]\n",
      " [ 9 11]\n",
      " [13 15]]\n",
      "[[ 4  3  2  1]\n",
      " [ 8  7  6  5]\n",
      " [12 11 10  9]\n",
      " [16 15 14 13]]\n"
     ]
    }
   ],
   "source": [
    "print(a[:,0:])\n",
    "print(a[:,0:4:2])\n",
    "print(a[:,::-1])\n"
   ]
  },
  {
   "cell_type": "code",
   "execution_count": 20,
   "id": "82c4db51-0083-4257-ba6a-511e9e724ef0",
   "metadata": {},
   "outputs": [
    {
     "name": "stdout",
     "output_type": "stream",
     "text": [
      "[[ 6  7]\n",
      " [10 11]]\n"
     ]
    }
   ],
   "source": [
    "print(a[1:3,1:3])"
   ]
  }
 ],
 "metadata": {
  "kernelspec": {
   "display_name": "Python 3 (ipykernel)",
   "language": "python",
   "name": "python3"
  },
  "language_info": {
   "codemirror_mode": {
    "name": "ipython",
    "version": 3
   },
   "file_extension": ".py",
   "mimetype": "text/x-python",
   "name": "python",
   "nbconvert_exporter": "python",
   "pygments_lexer": "ipython3",
   "version": "3.13.7"
  }
 },
 "nbformat": 4,
 "nbformat_minor": 5
}
